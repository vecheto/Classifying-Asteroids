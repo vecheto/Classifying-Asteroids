{
 "cells": [
  {
   "cell_type": "code",
   "execution_count": null,
   "id": "cbebf6af-ab45-4943-b87d-7b2754e9f05b",
   "metadata": {},
   "outputs": [],
   "source": [
    "ndetmin = 7\n",
    "X = []\n",
    "Y = []\n",
    "Z = []\n",
    "Q = []\n",
    "P = []\n",
    "\n",
    "condition = ''\n",
    "\n",
    "for ssnamenr in ndet.loc[ndet>=ndetmin].index:\n",
    "    condition+=f\"ssnamenr = '{ssnamenr}' OR \"\n",
    "\n",
    "condition = condition[:-3]\n",
    "\n",
    "\n",
    "query='SELECT * FROM ss_ztf WHERE ' + condition\n",
    "\n",
    "selast = pd.read_sql_query(query, conn)\n",
    "selast.set_index(\"candid\", inplace=True)\n",
    "query='''\n",
    "SELECT candid, mjd, fid, magpsf, sigmapsf\n",
    "FROM detection\n",
    "WHERE \n",
    "candid in (%s)\n",
    "''' % \",\".join([\"'%s'\" % candid for candid in selast.index])\n",
    "\n",
    "selast_lc = pd.read_sql_query(query, conn)\n",
    "selast_lc.set_index(\"candid\", inplace=True)\n",
    "for fid in selast_lc.fid.unique():\n",
    "   mask = (selast_lc.fid == fid)\n",
    "\n",
    "   if len(selast_lc.loc[mask].mjd) > 1 and len(selast_lc.loc[mask].mjd)==len(selast_lc.loc[mask].magpsf) and len(selast_lc.fid.unique())==2: \n",
    "     X.append(np.array(selast_lc.loc[mask].mjd).tolist())\n",
    "     Y.append(np.array(selast_lc.loc[mask].magpsf).tolist())\n",
    "     Z.append(np.array(selast.loc[selast_lc.index].ssmagnr).tolist())\n",
    "     P.append(np.array(selast_lc.loc[mask].magpsf - selast.loc[selast_lc.loc[mask].index].ssmagnr).tolist())\n",
    "     Q.append(np.array(selast_lc.mjd).tolist())\n",
    "\n",
    "    "
   ]
  }
 ],
 "metadata": {
  "kernelspec": {
   "display_name": "Python 3 (ipykernel)",
   "language": "python",
   "name": "python3"
  },
  "language_info": {
   "codemirror_mode": {
    "name": "ipython",
    "version": 3
   },
   "file_extension": ".py",
   "mimetype": "text/x-python",
   "name": "python",
   "nbconvert_exporter": "python",
   "pygments_lexer": "ipython3",
   "version": "3.9.7"
  }
 },
 "nbformat": 4,
 "nbformat_minor": 5
}
