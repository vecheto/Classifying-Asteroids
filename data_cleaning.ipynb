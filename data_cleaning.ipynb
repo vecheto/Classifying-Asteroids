{
 "cells": [
  {
   "cell_type": "markdown",
   "id": "e46679cd-3162-4527-a81d-fb3d48dd8fc6",
   "metadata": {},
   "source": [
    "# Data Cleaning"
   ]
  },
  {
   "cell_type": "code",
   "execution_count": 4,
   "id": "c1956611-8753-44d8-8249-56b77342320c",
   "metadata": {},
   "outputs": [
    {
     "name": "stdout",
     "output_type": "stream",
     "text": [
      "Collecting psycopg2-binary\n",
      "  Downloading psycopg2_binary-2.9.3-cp39-cp39-win_amd64.whl (1.2 MB)\n",
      "Installing collected packages: psycopg2-binary\n",
      "Successfully installed psycopg2-binary-2.9.3\n"
     ]
    }
   ],
   "source": [
    "#install libraries\n",
    "#!pip install alerce\n",
    "#!pip install psycopg2-binary"
   ]
  },
  {
   "cell_type": "markdown",
   "id": "9b9a91d0-1e7f-4daa-a4e7-069f8ffc3c95",
   "metadata": {
    "tags": []
   },
   "source": [
    "### Imports"
   ]
  },
  {
   "cell_type": "code",
   "execution_count": 8,
   "id": "155d7f41-f8b1-4350-8f38-5897eaaf79cb",
   "metadata": {},
   "outputs": [],
   "source": [
    "import psycopg2\n",
    "import requests\n",
    "import pandas as pd\n",
    "import numpy as np\n",
    "import matplotlib.pyplot as plt\n",
    "import astropy.units as u\n",
    "from astropy import coordinates\n",
    "from astropy.time import Time\n",
    "from datetime import datetime\n",
    "\n",
    "\n",
    "from IPython.display import HTML\n",
    "from ipywidgets import Layout, Box, widgets\n",
    "from mpl_toolkits.axes_grid1 import make_axes_locatable\n",
    "from matplotlib.cm import viridis\n",
    "from alerce.core import Alerce"
   ]
  },
  {
   "cell_type": "code",
   "execution_count": 9,
   "id": "ee298a72-e221-4d0b-a4f5-9ca70ad5b644",
   "metadata": {},
   "outputs": [],
   "source": [
    "client = Alerce()"
   ]
  },
  {
   "cell_type": "code",
   "execution_count": null,
   "id": "98258b2e-4e10-440a-a69b-73802773e5c1",
   "metadata": {},
   "outputs": [],
   "source": [
    "\n"
   ]
  }
 ],
 "metadata": {
  "kernelspec": {
   "display_name": "Python 3 (ipykernel)",
   "language": "python",
   "name": "python3"
  },
  "language_info": {
   "codemirror_mode": {
    "name": "ipython",
    "version": 3
   },
   "file_extension": ".py",
   "mimetype": "text/x-python",
   "name": "python",
   "nbconvert_exporter": "python",
   "pygments_lexer": "ipython3",
   "version": "3.9.7"
  }
 },
 "nbformat": 4,
 "nbformat_minor": 5
}
