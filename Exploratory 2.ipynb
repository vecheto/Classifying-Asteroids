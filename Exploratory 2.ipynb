{
 "cells": [
  {
   "cell_type": "code",
   "execution_count": 1,
   "metadata": {},
   "outputs": [],
   "source": [
    "import psycopg2\n",
    "import requests\n",
    "import pandas as pd\n",
    "import numpy as np\n",
    "import matplotlib.pyplot as plt\n",
    "import astropy.units as u\n",
    "from astropy import coordinates\n",
    "from astropy.time import Time\n",
    "from datetime import datetime\n",
    "\n",
    "\n",
    "from IPython.display import HTML\n",
    "from ipywidgets import Layout, Box, widgets\n",
    "from mpl_toolkits.axes_grid1 import make_axes_locatable\n",
    "from matplotlib.cm import viridis\n",
    "from alerce.core import Alerce"
   ]
  },
  {
   "cell_type": "code",
   "execution_count": 2,
   "metadata": {},
   "outputs": [],
   "source": [
    "client = Alerce()"
   ]
  },
  {
   "cell_type": "code",
   "execution_count": 3,
   "metadata": {},
   "outputs": [],
   "source": [
    "import requests\n",
    "url = \"https://raw.githubusercontent.com/alercebroker/usecases/master/alercereaduser_v4.json\"\n",
    "params = requests.get(url).json()['params']"
   ]
  },
  {
   "cell_type": "code",
   "execution_count": 4,
   "metadata": {},
   "outputs": [],
   "source": [
    "conn = psycopg2.connect(dbname=params['dbname'], user=params['user'], host=params['host'], password=params['password'])"
   ]
  },
  {
   "cell_type": "code",
   "execution_count": 5,
   "metadata": {},
   "outputs": [
    {
     "name": "stdout",
     "output_type": "stream",
     "text": [
      "(106895, 5)\n"
     ]
    },
    {
     "data": {
      "text/html": [
       "<div>\n",
       "<style scoped>\n",
       "    .dataframe tbody tr th:only-of-type {\n",
       "        vertical-align: middle;\n",
       "    }\n",
       "\n",
       "    .dataframe tbody tr th {\n",
       "        vertical-align: top;\n",
       "    }\n",
       "\n",
       "    .dataframe thead th {\n",
       "        text-align: right;\n",
       "    }\n",
       "</style>\n",
       "<table border=\"1\" class=\"dataframe\">\n",
       "  <thead>\n",
       "    <tr style=\"text-align: right;\">\n",
       "      <th></th>\n",
       "      <th>meanra</th>\n",
       "      <th>meandec</th>\n",
       "      <th>firstmjd</th>\n",
       "      <th>ndet</th>\n",
       "      <th>probability</th>\n",
       "    </tr>\n",
       "    <tr>\n",
       "      <th>oid</th>\n",
       "      <th></th>\n",
       "      <th></th>\n",
       "      <th></th>\n",
       "      <th></th>\n",
       "      <th></th>\n",
       "    </tr>\n",
       "  </thead>\n",
       "  <tbody>\n",
       "    <tr>\n",
       "      <th>ZTF21aanqpzu</th>\n",
       "      <td>156.451785</td>\n",
       "      <td>14.969416</td>\n",
       "      <td>59274.212454</td>\n",
       "      <td>1</td>\n",
       "      <td>0.705238</td>\n",
       "    </tr>\n",
       "    <tr>\n",
       "      <th>ZTF21aanqpwg</th>\n",
       "      <td>156.660014</td>\n",
       "      <td>10.679691</td>\n",
       "      <td>59274.212454</td>\n",
       "      <td>1</td>\n",
       "      <td>0.700072</td>\n",
       "    </tr>\n",
       "    <tr>\n",
       "      <th>ZTF21aanqjqc</th>\n",
       "      <td>84.403597</td>\n",
       "      <td>10.469394</td>\n",
       "      <td>59274.147813</td>\n",
       "      <td>1</td>\n",
       "      <td>0.725208</td>\n",
       "    </tr>\n",
       "    <tr>\n",
       "      <th>ZTF21aanqpxc</th>\n",
       "      <td>157.088644</td>\n",
       "      <td>15.424231</td>\n",
       "      <td>59274.212454</td>\n",
       "      <td>1</td>\n",
       "      <td>0.728637</td>\n",
       "    </tr>\n",
       "    <tr>\n",
       "      <th>ZTF21aanqpyv</th>\n",
       "      <td>154.226348</td>\n",
       "      <td>12.072717</td>\n",
       "      <td>59274.212454</td>\n",
       "      <td>1</td>\n",
       "      <td>0.710321</td>\n",
       "    </tr>\n",
       "  </tbody>\n",
       "</table>\n",
       "</div>"
      ],
      "text/plain": [
       "                  meanra    meandec      firstmjd  ndet  probability\n",
       "oid                                                                 \n",
       "ZTF21aanqpzu  156.451785  14.969416  59274.212454     1     0.705238\n",
       "ZTF21aanqpwg  156.660014  10.679691  59274.212454     1     0.700072\n",
       "ZTF21aanqjqc   84.403597  10.469394  59274.147813     1     0.725208\n",
       "ZTF21aanqpxc  157.088644  15.424231  59274.212454     1     0.728637\n",
       "ZTF21aanqpyv  154.226348  12.072717  59274.212454     1     0.710321"
      ]
     },
     "execution_count": 5,
     "metadata": {},
     "output_type": "execute_result"
    }
   ],
   "source": [
    "mjd_first = Time(\"2021-03-01T00:00:00\", scale='utc').mjd\n",
    "mjd_last = Time(\"2021-04-01T00:00:00\", scale='utc').mjd\n",
    "\n",
    "query='''\n",
    "SELECT\n",
    "object.oid, object.meanra, object.meandec, object.firstmjd,\n",
    "object.ndet, probability.probability\n",
    "\n",
    "FROM object\n",
    "INNER JOIN probability\n",
    "ON object.oid=probability.oid\n",
    "\n",
    "WHERE \n",
    "object.firstMJD>%s\n",
    "AND object.firstMJD<%s\n",
    "AND object.ndet=1\n",
    "AND probability.classifier_name='stamp_classifier'\n",
    "AND probability.class_name='asteroid'\n",
    "AND probability.probability>0.7\n",
    "''' % (mjd_first, mjd_last)\n",
    "\n",
    "ast = pd.read_sql_query(query, conn)\n",
    "ast.set_index('oid', inplace=True)\n",
    "print(ast.shape)\n",
    "ast.head()"
   ]
  },
  {
   "cell_type": "code",
   "execution_count": 6,
   "metadata": {},
   "outputs": [
    {
     "name": "stdout",
     "output_type": "stream",
     "text": [
      "(106387, 5)\n"
     ]
    },
    {
     "data": {
      "text/html": [
       "<div>\n",
       "<style scoped>\n",
       "    .dataframe tbody tr th:only-of-type {\n",
       "        vertical-align: middle;\n",
       "    }\n",
       "\n",
       "    .dataframe tbody tr th {\n",
       "        vertical-align: top;\n",
       "    }\n",
       "\n",
       "    .dataframe thead th {\n",
       "        text-align: right;\n",
       "    }\n",
       "</style>\n",
       "<table border=\"1\" class=\"dataframe\">\n",
       "  <thead>\n",
       "    <tr style=\"text-align: right;\">\n",
       "      <th></th>\n",
       "      <th>oid</th>\n",
       "      <th>candid</th>\n",
       "      <th>ssdistnr</th>\n",
       "      <th>ssmagnr</th>\n",
       "      <th>ssnamenr</th>\n",
       "    </tr>\n",
       "  </thead>\n",
       "  <tbody>\n",
       "    <tr>\n",
       "      <th>0</th>\n",
       "      <td>ZTF18aaavzci</td>\n",
       "      <td>1549155913415015015</td>\n",
       "      <td>0.0</td>\n",
       "      <td>19.9</td>\n",
       "      <td>77314</td>\n",
       "    </tr>\n",
       "    <tr>\n",
       "      <th>1</th>\n",
       "      <td>ZTF18aaaxbqb</td>\n",
       "      <td>1549153564115015003</td>\n",
       "      <td>1.0</td>\n",
       "      <td>19.5</td>\n",
       "      <td>36263</td>\n",
       "    </tr>\n",
       "    <tr>\n",
       "      <th>2</th>\n",
       "      <td>ZTF18aaaxbuo</td>\n",
       "      <td>1547212622015015006</td>\n",
       "      <td>0.0</td>\n",
       "      <td>18.1</td>\n",
       "      <td>13289</td>\n",
       "    </tr>\n",
       "    <tr>\n",
       "      <th>3</th>\n",
       "      <td>ZTF18aabqfyb</td>\n",
       "      <td>1550307190015015012</td>\n",
       "      <td>0.0</td>\n",
       "      <td>19.8</td>\n",
       "      <td>349197</td>\n",
       "    </tr>\n",
       "    <tr>\n",
       "      <th>4</th>\n",
       "      <td>ZTF18aabwrag</td>\n",
       "      <td>1549239930415015008</td>\n",
       "      <td>0.0</td>\n",
       "      <td>20.0</td>\n",
       "      <td>175315</td>\n",
       "    </tr>\n",
       "  </tbody>\n",
       "</table>\n",
       "</div>"
      ],
      "text/plain": [
       "            oid               candid  ssdistnr  ssmagnr ssnamenr\n",
       "0  ZTF18aaavzci  1549155913415015015       0.0     19.9    77314\n",
       "1  ZTF18aaaxbqb  1549153564115015003       1.0     19.5    36263\n",
       "2  ZTF18aaaxbuo  1547212622015015006       0.0     18.1    13289\n",
       "3  ZTF18aabqfyb  1550307190015015012       0.0     19.8   349197\n",
       "4  ZTF18aabwrag  1549239930415015008       0.0     20.0   175315"
      ]
     },
     "execution_count": 6,
     "metadata": {},
     "output_type": "execute_result"
    }
   ],
   "source": [
    "query='''\n",
    "SELECT *\n",
    "FROM ss_ztf\n",
    "WHERE \n",
    "oid in (%s)\n",
    "AND ssdistnr >= 0\n",
    "AND ssdistnr <= 5.0\n",
    "ORDER BY oid\n",
    "''' % \",\".join([\"'%s'\" % oid for oid in ast.index])\n",
    "\n",
    "ss = pd.read_sql_query(query, conn)\n",
    "print(ss.shape)\n",
    "ss.head()"
   ]
  },
  {
   "cell_type": "code",
   "execution_count": 7,
   "metadata": {},
   "outputs": [],
   "source": [
    "ndet = ss.groupby(\"ssnamenr\").apply(lambda df: df.shape[0])"
   ]
  },
  {
   "cell_type": "code",
   "execution_count": 8,
   "metadata": {},
   "outputs": [],
   "source": [
    "ndetmin = 10\n",
    "X = []\n",
    "Y = []\n",
    "Z = []\n",
    "Q = []\n",
    "P = []\n",
    "OID = []\n",
    "CND = []\n",
    "for ssnamenr in ndet.loc[ndet>=ndetmin].index:\n",
    "  query='''\n",
    "  SELECT *\n",
    "  FROM ss_ztf\n",
    "  WHERE \n",
    "  ssnamenr = '%s'\n",
    "  ''' % ssnamenr\n",
    "\n",
    "  selast = pd.read_sql_query(query, conn)\n",
    "  selast.set_index(\"candid\", inplace=True)\n",
    "  query='''\n",
    "  SELECT candid, mjd, fid, magpsf, sigmapsf, oid\n",
    "  FROM detection\n",
    "  WHERE \n",
    "  candid in (%s)\n",
    "  ''' % \",\".join([\"'%s'\" % candid for candid in selast.index])\n",
    "\n",
    "  selast_lc = pd.read_sql_query(query, conn)\n",
    "  selast_lc.set_index(\"candid\", inplace=True)\n",
    "  for fid in selast_lc.fid.unique():\n",
    "    mask = (selast_lc.fid == fid)\n",
    "\n",
    "    if len(selast_lc.loc[mask].mjd) > 1 and len(selast_lc.loc[mask].mjd)==len(selast_lc.loc[mask].magpsf) and len(selast_lc.fid.unique())==2: \n",
    "      X.append(np.array(selast_lc.loc[mask].mjd).tolist())\n",
    "      Y.append(np.array(selast_lc.loc[mask].magpsf).tolist())\n",
    "      Z.append(np.array(selast.loc[selast_lc.index].ssmagnr).tolist())\n",
    "      P.append(np.array(selast_lc.loc[mask].magpsf - selast.loc[selast_lc.loc[mask].index].ssmagnr).tolist())\n",
    "      Q.append(np.array(selast_lc.mjd).tolist())\n",
    "      OID.append(np.array(selast_lc.oid).tolist())\n",
    "      CND.append(np.array(selast_lc.index).tolist())\n",
    "      \n"
   ]
  },
  {
   "cell_type": "code",
   "execution_count": 9,
   "metadata": {},
   "outputs": [
    {
     "name": "stdout",
     "output_type": "stream",
     "text": [
      "80\n"
     ]
    }
   ],
   "source": [
    "\n",
    "print(len(CND[1]))"
   ]
  },
  {
   "cell_type": "code",
   "execution_count": 10,
   "metadata": {},
   "outputs": [
    {
     "name": "stdout",
     "output_type": "stream",
     "text": [
      "180\n",
      "180\n"
     ]
    }
   ],
   "source": [
    "print(len(P))\n",
    "print(len(OID))\n"
   ]
  },
  {
   "cell_type": "code",
   "execution_count": 11,
   "metadata": {},
   "outputs": [],
   "source": [
    "\n",
    "Xt = X\n",
    "Yt = Y\n",
    "Zt = Z\n",
    "Qt = Q\n",
    "Pt = P\n",
    "Ot = OID\n",
    "Ct = CND\n",
    "i=0\n",
    "while i< len(Xt):\n",
    "\n",
    "    if len(Xt[i][:150])<150:\n",
    "        k = len(Xt[i])\n",
    "        while k < 150:\n",
    "            Xt[i].append((Xt[i][len(Xt[i])-1]))\n",
    "            k = k+1    \n",
    "    else:\n",
    "        Xt[i]=(Xt[i][:150])\n",
    "        i=i+1\n",
    "\n",
    "i=0\n",
    "while i< len(Yt):\n",
    "    if len(Yt[i][:150])<150:\n",
    "        k = len(Yt[i])\n",
    "        while k < 150:\n",
    "            Yt[i].append((Yt[i][len(Yt[i])-1]))\n",
    "            k= k+1\n",
    "    else:\n",
    "        Yt[i]=(Yt[i][:150])\n",
    "    i=i+1\n",
    "\n",
    "i=0\n",
    "while i< len(Zt):\n",
    "    if len(Zt[i][:150])<150:\n",
    "        k = len(Zt[i])\n",
    "        while k < 150:\n",
    "            Zt[i].append((Zt[i][len(Zt[i])-1]))\n",
    "            k= k+1\n",
    "    else:\n",
    "        Zt[i]=(Zt[i][:150])\n",
    "    i=i+1\n",
    "\n",
    "i=0\n",
    "while i< len(Qt):\n",
    "    if len(Qt[i][:150])<150:\n",
    "        k = len(Qt[i])\n",
    "        while k < 150:\n",
    "            Qt[i].append((Qt[i][len(Qt[i])-1]))\n",
    "            k= k+1\n",
    "    else:\n",
    "        Qt[i]=(Qt[i][:150])\n",
    "    i=i+1\n",
    "\n",
    "i=0\n",
    "while i< len(Pt):\n",
    "    if len(Pt[i][:150])<150:\n",
    "        k = len(Pt[i])\n",
    "        while k < 150:\n",
    "            Pt[i].append((Pt[i][len(Pt[i])-1]))\n",
    "            k= k+1\n",
    "    else:\n",
    "        Pt[i]=(Pt[i][:150])\n",
    "    i=i+1\n",
    "\n",
    "i=0\n",
    "while i< len(Ot):\n",
    "    if len(Ot[i][:150])<150:\n",
    "        k = len(Ot[i])\n",
    "        while k < 150:\n",
    "            Ot[i].append((Ot[i][len(Ot[i])-1]))\n",
    "            k= k+1\n",
    "    else:\n",
    "        Ot[i]=(Ot[i][:150])\n",
    "    i=i+1\n",
    "\n",
    "i=0\n",
    "while i< len(Ct):\n",
    "    if len(Ct[i][:150])<150:\n",
    "        k = len(Ct[i])\n",
    "        while k < 150:\n",
    "            Ct[i].append((Ct[i][len(Ct[i])-1]))\n",
    "            k= k+1\n",
    "    else:\n",
    "        Ct[i]=(Ct[i][:150])\n",
    "    i=i+1\n"
   ]
  },
  {
   "cell_type": "code",
   "execution_count": 12,
   "metadata": {},
   "outputs": [],
   "source": [
    "j=0\n",
    "Xt2 = Xt\n",
    "Yt2 = Yt\n",
    "Zt2 = Zt\n",
    "Qt2 = Qt \n",
    "Pt2 = Pt\n",
    "Ot2 =Ot\n",
    "Ct2 =Ct\n",
    "while j < len(X):\n",
    "    Xt2[j]=np.array(Xt[j])\n",
    "    Yt2[j]=np.array(Yt[j])\n",
    "    Zt2[j]=np.array(Zt[j])\n",
    "    Qt2[j]=np.array(Qt[j])\n",
    "    Pt2[j]=np.array(Pt[j])\n",
    "    Ot2[j]=np.array(Ot[j]) \n",
    "    Ct2[j]=np.array(Ct[j]) \n",
    "    j=j+1\n",
    "Xt2 = np.array(Xt2)\n",
    "Yt2 = np.array(Yt2)\n",
    "Zt2 = np.array(Zt2)\n",
    "Qt2 = np.array(Qt2)\n",
    "Pt2 = np.array(Pt2)\n",
    "Ot2 = np.array(Ot2)\n",
    "Ct2 = np.array(Ct2)"
   ]
  },
  {
   "cell_type": "code",
   "execution_count": 13,
   "metadata": {},
   "outputs": [],
   "source": [
    "j=0\n",
    "Xt3 = []\n",
    "Yt3 = []\n",
    "Zt3 = []\n",
    "Qt3 = [] \n",
    "Pt3 = []\n",
    "Ot3 = []\n",
    "Ct3 = []\n",
    "while j < len(Yt)/2:\n",
    "    Xt3.append(np.concatenate((Xt2[2*j], Xt2[2*j + 1] )))\n",
    "    Yt3.append(np.concatenate((Yt2[2*j], Yt2[2*j + 1] )))\n",
    "    Zt3.append( np.concatenate((Zt2[2*j], Zt2[2*j + 1])))\n",
    "    Qt3.append(np.concatenate((Qt2[2*j], Qt2[2*j + 1] )))\n",
    "    Pt3.append(np.concatenate((Pt2[2*j], Pt2[2*j + 1] )))\n",
    "    Ot3.append(np.concatenate((Ot2[2*j], Ot2[2*j + 1] )))\n",
    "    Ct3.append(np.concatenate((Ct2[2*j], Ct2[2*j + 1] )))\n",
    "    \n",
    "    j=j+1\n",
    "Xt3 = np.array(Xt3)\n",
    "Yt3 = np.array(Yt3)\n",
    "Zt3 = np.array(Zt3)\n",
    "Qt3 = np.array(Qt3)\n",
    "Pt3 = np.array(Pt3)\n",
    "Ot3 = np.array(Ot3)\n",
    "Ct3 = np.array(Ct3)"
   ]
  },
  {
   "cell_type": "code",
   "execution_count": 14,
   "metadata": {},
   "outputs": [],
   "source": [
    "j=0\n",
    "M = []\n",
    "M2 = []\n",
    "M3 = []\n",
    "M3L = Ot3\n",
    "M3L2 = Ct3\n",
    "M4 = []\n",
    "while j < len(Yt3):\n",
    "    M.append(np.concatenate((Xt3[j], Yt3[j])))\n",
    "    M2.append(np.concatenate((np.concatenate((Xt3[j], Yt3[j])),np.concatenate((Zt3[j], Qt3[j])))))\n",
    "    M3.append(np.concatenate((Xt3[j], Pt3[j])))\n",
    "    j=j+1\n",
    "M = np.array(M)\n",
    "M2 = np.array(M2)\n",
    "M3 = np.array(M3)"
   ]
  },
  {
   "cell_type": "code",
   "execution_count": 15,
   "metadata": {},
   "outputs": [],
   "source": [
    "df3 = pd.DataFrame(M2)"
   ]
  },
  {
   "cell_type": "code",
   "execution_count": 16,
   "metadata": {},
   "outputs": [
    {
     "ename": "ModuleNotFoundError",
     "evalue": "No module named 'umap'",
     "output_type": "error",
     "traceback": [
      "\u001b[1;31m---------------------------------------------------------------------------\u001b[0m",
      "\u001b[1;31mModuleNotFoundError\u001b[0m                       Traceback (most recent call last)",
      "\u001b[1;32m<ipython-input-16-b8f6b6972540>\u001b[0m in \u001b[0;36m<module>\u001b[1;34m\u001b[0m\n\u001b[1;32m----> 1\u001b[1;33m \u001b[1;32mimport\u001b[0m \u001b[0mumap\u001b[0m\u001b[1;33m\u001b[0m\u001b[1;33m\u001b[0m\u001b[0m\n\u001b[0m\u001b[0;32m      2\u001b[0m \u001b[1;32mfrom\u001b[0m \u001b[0msklearn\u001b[0m\u001b[1;33m.\u001b[0m\u001b[0mpreprocessing\u001b[0m \u001b[1;32mimport\u001b[0m \u001b[0mStandardScaler\u001b[0m\u001b[1;33m\u001b[0m\u001b[1;33m\u001b[0m\u001b[0m\n\u001b[0;32m      3\u001b[0m \u001b[0mreducer3\u001b[0m \u001b[1;33m=\u001b[0m \u001b[0mumap\u001b[0m\u001b[1;33m.\u001b[0m\u001b[0mUMAP\u001b[0m\u001b[1;33m(\u001b[0m\u001b[0mrandom_state\u001b[0m\u001b[1;33m=\u001b[0m \u001b[1;36m2\u001b[0m\u001b[1;33m)\u001b[0m\u001b[1;33m\u001b[0m\u001b[1;33m\u001b[0m\u001b[0m\n\u001b[0;32m      4\u001b[0m \u001b[0mscaled_ff3\u001b[0m \u001b[1;33m=\u001b[0m \u001b[0mStandardScaler\u001b[0m\u001b[1;33m(\u001b[0m\u001b[1;33m)\u001b[0m\u001b[1;33m.\u001b[0m\u001b[0mfit_transform\u001b[0m\u001b[1;33m(\u001b[0m\u001b[0mdf3\u001b[0m\u001b[1;33m)\u001b[0m\u001b[1;33m\u001b[0m\u001b[1;33m\u001b[0m\u001b[0m\n\u001b[0;32m      5\u001b[0m \u001b[0membedding3\u001b[0m \u001b[1;33m=\u001b[0m \u001b[0mreducer3\u001b[0m\u001b[1;33m.\u001b[0m\u001b[0mfit_transform\u001b[0m\u001b[1;33m(\u001b[0m\u001b[0mscaled_ff3\u001b[0m\u001b[1;33m)\u001b[0m\u001b[1;33m\u001b[0m\u001b[1;33m\u001b[0m\u001b[0m\n",
      "\u001b[1;31mModuleNotFoundError\u001b[0m: No module named 'umap'"
     ]
    }
   ],
   "source": [
    "import umap \n",
    "from sklearn.preprocessing import StandardScaler\n",
    "reducer3 = umap.UMAP(random_state= 2)\n",
    "scaled_ff3 = StandardScaler().fit_transform(df3)\n",
    "embedding3 = reducer3.fit_transform(scaled_ff3)\n",
    "plt.scatter(embedding3[:, 0],embedding3[:, 1]) \n",
    "plt.gca().set_aspect('equal', 'datalim')\n",
    "plt.title('UMAP projection of Asteroid Data', fontsize=24)"
   ]
  },
  {
   "cell_type": "code",
   "execution_count": null,
   "metadata": {},
   "outputs": [],
   "source": [
    "XfM3 = df3\n",
    "YfM3 = df3.index.tolist()"
   ]
  },
  {
   "cell_type": "code",
   "execution_count": null,
   "metadata": {},
   "outputs": [],
   "source": [
    "from sklearn.cluster import KMeans\n",
    "model3 = KMeans(n_clusters=3)\n",
    "model3.fit(embedding3)\n",
    "centers3 = model3.cluster_centers_\n",
    "labels3 = model3.labels_"
   ]
  },
  {
   "cell_type": "code",
   "execution_count": null,
   "metadata": {},
   "outputs": [
    {
     "data": {
      "text/plain": [
       "<matplotlib.collections.PathCollection at 0x24d18c173d0>"
      ]
     },
     "execution_count": 202,
     "metadata": {},
     "output_type": "execute_result"
    },
    {
     "data": {
      "image/png": "[encoded data removed]",
      "text/plain": [
       "<Figure size 1008x720 with 1 Axes>"
      ]
     },
     "metadata": {},
     "output_type": "display_data"
    }
   ],
   "source": [
    "\n",
    "import seaborn as sns\n",
    "\n",
    "sns.set(style='white', context='notebook', rc={'figure.figsize':(14,10)})\n",
    "plt.scatter(\n",
    "    embedding3[:, 0],\n",
    "    embedding3[:, 1],\n",
    "    c=[sns.color_palette()[x] for x in labels3])"
   ]
  },
  {
   "cell_type": "code",
   "execution_count": null,
   "metadata": {},
   "outputs": [],
   "source": [
    "XM3f0 = []\n",
    "XM3f1 = []\n",
    "XM3f2 = []\n",
    "\n",
    "XffM3 = np.array(XfM3).tolist()\n",
    "\n",
    "i=0\n",
    "while i < len(labels3):\n",
    "    if labels3[i] == 0:\n",
    "        XM3f0.append(XffM3[i])\n",
    "    elif labels3[i] == 1:\n",
    "        XM3f1.append(XffM3[i])\n",
    "    elif labels3[i] == 2:\n",
    "        XM3f2.append(XffM3[i])\n",
    "    i=i+1"
   ]
  },
  {
   "cell_type": "code",
   "execution_count": null,
   "metadata": {},
   "outputs": [],
   "source": [
    "OIDs0 = []\n",
    "OIDs1 = []\n",
    "OIDs2 = []\n",
    "OIDSM3 = np.array(XfM3).tolist()\n",
    "i=0\n",
    "while i < len(labels3):\n",
    "    if labels3[i] == 0:\n",
    "        j=0\n",
    "        while j < len(Ot3[i]):\n",
    "            OIDs0.append(Ot3[i][j])\n",
    "            j=j+1\n",
    "    elif labels3[i] == 1:\n",
    "        j=0\n",
    "        while j < len(Ot3[i]):\n",
    "            OIDs1.append(Ot3[i][j])\n",
    "            j=j+1\n",
    "    elif labels3[i] == 2:\n",
    "        j=0\n",
    "        while j < len(Ot3[i]):\n",
    "            OIDs2.append(Ot3[i][j])\n",
    "            j=j+1\n",
    "    i=i+1"
   ]
  },
  {
   "cell_type": "code",
   "execution_count": null,
   "metadata": {},
   "outputs": [],
   "source": [
    "Cans0 = []\n",
    "Cans1 = []\n",
    "Cans2 = []\n",
    "CansM3 = np.array(XfM3).tolist()\n",
    "i=0\n",
    "while i < len(labels3):\n",
    "    if labels3[i] == 0:\n",
    "        j=0\n",
    "        while j < len(Ct3[i]):\n",
    "            Cans0.append(Ct3[i][j])\n",
    "            j=j+1\n",
    "    elif labels3[i] == 1:\n",
    "        j=0\n",
    "        while j < len(Ct3[i]):\n",
    "            Cans1.append(Ct3[i][j])\n",
    "            j=j+1\n",
    "    elif labels3[i] == 2:\n",
    "        j=0\n",
    "        while j < len(Ct3[i]):\n",
    "            Cans2.append(Ct3[i][j])\n",
    "            j=j+1\n",
    "    i=i+1"
   ]
  }
 ],
 "metadata": {
  "kernelspec": {
   "display_name": "Python 3.8.5 ('base')",
   "language": "python",
   "name": "python3"
  },
  "language_info": {
   "codemirror_mode": {
    "name": "ipython",
    "version": 3
   },
   "file_extension": ".py",
   "mimetype": "text/x-python",
   "name": "python",
   "nbconvert_exporter": "python",
   "pygments_lexer": "ipython3",
   "version": "3.8.5"
  },
  "orig_nbformat": 4,
  "vscode": {
   "interpreter": {
    "hash": "d8e4cd1eebe6a0ce005a19e88dbb789a268e38d5a588b17db3dcac374bd2b45d"
   }
  }
 },
 "nbformat": 4,
 "nbformat_minor": 2
}
